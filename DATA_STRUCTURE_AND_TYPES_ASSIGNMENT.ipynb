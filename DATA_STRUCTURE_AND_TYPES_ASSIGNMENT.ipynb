{
  "cells": [
    {
      "cell_type": "code",
      "execution_count": null,
      "metadata": {
        "id": "xSNOJaydNY0M"
      },
      "outputs": [],
      "source": []
    },
    {
      "cell_type": "markdown",
      "metadata": {
        "id": "XfXNFCcSOI_b"
      },
      "source": [
        "1.**What are data structures, and why are they important?**\n",
        "\n",
        "ANS.\n",
        "Data structures are ways of organizing and storing data in a computer so that it can be accessed and modified efficiently. They are essential for managing large amounts of data and for performing operations like searching, inserting, updating, and deleting in an efficient manner.\n",
        "\n",
        "**Importance of Data Structures:**\n",
        "\n",
        "**Efficiency**: Different data structures allow algorithms to perform more efficiently, reducing time complexity and space complexity for various tasks.\n",
        "\n",
        "**Optimization**: They help optimize operations such as searching, sorting, and memory usage, making programs run faster and more efficiently.\n",
        "\n",
        "**Problem Solving**: Understanding and using the appropriate data structure is essential to solving problems effectively, whether you're implementing algorithms, managing large datasets, or building complex software systems.\n",
        "\n",
        "\n",
        "---\n",
        "2. **Explain the difference between mutable and immutable data types with examples.**\n",
        "\n",
        "ANS.\n",
        "The difference between mutable and immutable data types lies in whether or not the data can be changed after it is created. Here's a detailed explanation:\n",
        "\n",
        "**Mutable Data Types**\n",
        "\n",
        "A mutable data type is one whose value or contents can be modified after it is created. In other words, the object can be changed in place, meaning that operations like adding, removing, or modifying elements can be performed without creating a new object.\n",
        "\n",
        "**Examples of Mutable Data Types:**\n",
        "\n",
        "Lists (in Python)\n",
        "\n",
        "Lists are mutable because you can modify the elements of a list after it's created.\n",
        "python\n",
        "Copy code\n",
        "\n",
        "\n",
        "\n"
      ]
    },
    {
      "cell_type": "code",
      "execution_count": null,
      "metadata": {
        "colab": {
          "base_uri": "https://localhost:8080/"
        },
        "id": "FrT4A3sbS0QN",
        "outputId": "18bf04eb-e884-4c9c-a664-92d3034695c6"
      },
      "outputs": [
        {
          "name": "stdout",
          "output_type": "stream",
          "text": [
            "[10, 2, 3]\n"
          ]
        }
      ],
      "source": [
        "my_list=[1,2,3]\n",
        "my_list[0]=10\n",
        "print(my_list)"
      ]
    },
    {
      "cell_type": "code",
      "execution_count": null,
      "metadata": {
        "id": "FbJXOGKITChC"
      },
      "outputs": [],
      "source": []
    },
    {
      "cell_type": "markdown",
      "metadata": {
        "id": "eceJz-chTIsD"
      },
      "source": [
        "**DICTIONARIES(IN PYTHON)**\n",
        "\n",
        "Dictionaries are mutable, allowing you to add, remove, or update key-value pairs.\n"
      ]
    },
    {
      "cell_type": "code",
      "execution_count": null,
      "metadata": {
        "colab": {
          "base_uri": "https://localhost:8080/"
        },
        "id": "RtP5pTDrTuQF",
        "outputId": "8cbc5a4c-a0cf-4860-9a46-b47548027211"
      },
      "outputs": [
        {
          "name": "stdout",
          "output_type": "stream",
          "text": [
            "{'name': 'menka', 'age': 26, 'city': 'delhi'}\n"
          ]
        }
      ],
      "source": [
        "my_dict={'name':'menka','age':25}\n",
        "my_dict['age']=26       # modifying a value\n",
        "my_dict['city']='delhi'      # adding a new key value pair\n",
        "print(my_dict)\n"
      ]
    },
    {
      "cell_type": "code",
      "execution_count": null,
      "metadata": {
        "colab": {
          "base_uri": "https://localhost:8080/"
        },
        "id": "77fdhT8zUjY5",
        "outputId": "5062dc8b-6c83-46d9-b5c0-b2731865c1bf"
      },
      "outputs": [
        {
          "name": "stdout",
          "output_type": "stream",
          "text": [
            "{1, 3, 4}\n"
          ]
        }
      ],
      "source": [
        "# Sets (in Python)\n",
        "#  Sets are mutable, meaning elements can be added or removed.\n",
        "my_set={1,2,3}\n",
        "my_set.add(4)       # adding an element\n",
        "my_set.remove(2)    # removing an element\n",
        "print(my_set)\n"
      ]
    },
    {
      "cell_type": "markdown",
      "metadata": {
        "id": "I7myJ-LhVjJJ"
      },
      "source": [
        "**Immutable Data Types**\n",
        "\n",
        "An immutable data type is one whose value cannot be changed once it is created. If you try to modify an immutable object, a new object is created instead, leaving the original object unchanged.\n",
        "\n",
        "**Examples of Immutable Data Types:**\n",
        "\n",
        "*Tuples (in Python)*\n",
        "Tuples are immutable, so once you create a tuple, you cannot modify its elements.\n",
        "python\n",
        "\n",
        "my_tuple=(1,2,3)\n",
        "\n",
        "# attempting to modify an element will raise an error.\n",
        "\n",
        "\n",
        "---\n",
        "\n",
        "\n",
        "\n",
        "\n"
      ]
    },
    {
      "cell_type": "code",
      "execution_count": null,
      "metadata": {
        "id": "l_JFuvlKWcrC"
      },
      "outputs": [],
      "source": []
    },
    {
      "cell_type": "markdown",
      "metadata": {
        "id": "48zaEANLWfJ-"
      },
      "source": [
        "\n",
        "3. **What are the main differences between lists and tuples in Python?**\n",
        "\n",
        "In Python, lists and tuples are both used to store collections of items. However, they have key differences in terms of their properties and use cases.\n",
        "\n",
        "**Mutability:**\n",
        "\n",
        "List: Lists are mutable, meaning you can change, add, or remove elements after the list is created.\n",
        "\n",
        "TUPLE:\n",
        " Tuples are immutable, meaning once a tuple is created, its elements cannot be modified, added, or removed.\n",
        "\n",
        "**Syntax:**\n",
        "\n",
        "List: Lists are defined using square brackets [ ]\n",
        "my_list = [1, 2, 3]\n",
        "\n",
        "Tuple: Tuples are defined using parentheses ( )\n",
        "\n",
        "my_tuple = (1, 2, 3)\n",
        "\n",
        "**Use Cases:**\n",
        "\n",
        "List:\n",
        " Use a list when you need a collection of items that can change during the program's execution (e.g., adding, removing, or changing elements).\n",
        "\n",
        "Tuple: Use a tuple when you need a fixed, immutable collection of items that should not be changed (e.g., coordinates, function arguments).\n",
        "\n",
        "\n",
        "---\n",
        "\n",
        "\n",
        "\n",
        "4. **Describe how dictionaries store data.**\n",
        "ANS:\n",
        "Dictionaries in Python are unordered collection that store data in key-value pairs. Each key is associated with a value, and the data is accessed using the key rather than an index.\n",
        "\n",
        "**Key-Value Pairs**\n",
        "\n",
        "A dictionary consists of keys and their corresponding values.\n",
        "\n",
        "Keys must be unique and immutable (e.g., strings, numbers, or tuples).\n",
        "\n",
        "Values can be any type of object, including mutable types like lists.\n",
        "\n",
        "Syntax\n",
        "my_dic={\"aman\":26, \"ravi\":25}\n",
        "\n",
        "**Hashing**\n",
        "\n",
        "Python dictionaries use a hash table for efficient data storage and retrieval.\n",
        "\n",
        "Each key in the dictionary is passed through a hash function, which computes a unique hash value based on the key.\n",
        "\n",
        "This hash value is used to determine the location (or \"bucket\") where the value will be stored in memory.\n",
        "\n",
        "**Insertion Order**\n",
        "\n",
        "dictionaries maintain insertion order.\n",
        "This means that the order in which items are added to the dictionary is preserved when iterating over the dictionary.\n",
        "\n"
      ]
    },
    {
      "cell_type": "code",
      "execution_count": null,
      "metadata": {
        "colab": {
          "base_uri": "https://localhost:8080/"
        },
        "id": "8hpO9IO2Vd2C",
        "outputId": "6528e3f5-2191-4263-c199-a9013ac00ed7"
      },
      "outputs": [
        {
          "name": "stdout",
          "output_type": "stream",
          "text": [
            "menka\n"
          ]
        }
      ],
      "source": [
        "my_dict={\"name\":\"menka\",\"gender\":\"female\",\"age\":27}\n",
        "print(my_dict[\"name\"])     # accessing value using key"
      ]
    },
    {
      "cell_type": "code",
      "execution_count": null,
      "metadata": {
        "id": "0gv188jfN1a7"
      },
      "outputs": [],
      "source": [
        "my_dict[\"fruits\"]=\"apple\" # adding a new key value pair"
      ]
    },
    {
      "cell_type": "code",
      "execution_count": null,
      "metadata": {
        "colab": {
          "base_uri": "https://localhost:8080/"
        },
        "id": "W_v0L2wxOQYS",
        "outputId": "67903dc8-6829-4618-d45b-9f4828003323"
      },
      "outputs": [
        {
          "data": {
            "text/plain": [
              "{'name': 'menka', 'gender': 'female', 'age': 27, 'fruits': 'apple'}"
            ]
          },
          "execution_count": 3,
          "metadata": {},
          "output_type": "execute_result"
        }
      ],
      "source": [
        "my_dict"
      ]
    },
    {
      "cell_type": "code",
      "execution_count": null,
      "metadata": {
        "colab": {
          "background_save": true
        },
        "id": "zu8lKu4xOX71"
      },
      "outputs": [],
      "source": []
    },
    {
      "cell_type": "markdown",
      "source": [
        "\n",
        "---\n",
        "\n"
      ],
      "metadata": {
        "id": "Kagi4P6ha4so"
      }
    },
    {
      "cell_type": "markdown",
      "source": [
        "5.**Why might you use a set instead of a list in Python?**\n",
        "\n",
        "ANS:\n",
        "\n",
        "A set is often preferred over a list in certain situations due to the following reasons:\n",
        "\n",
        "**Uniqueness of Elements:**\n",
        "\n",
        "A set automatically removes duplicate values, ensuring that all elements are unique. If you need to store only unique items, a set is a natural choice. In contrast, a list can contain duplicates.\n",
        "\n",
        "\n"
      ],
      "metadata": {
        "id": "AcJYjfLhpDnS"
      }
    },
    {
      "cell_type": "code",
      "source": [
        "my_set={1,2,3,3}"
      ],
      "metadata": {
        "id": "_A7HoCNypplt"
      },
      "execution_count": null,
      "outputs": []
    },
    {
      "cell_type": "code",
      "source": [
        "my_set        # this will result in {1,2,3}"
      ],
      "metadata": {
        "colab": {
          "base_uri": "https://localhost:8080/"
        },
        "id": "Te6uS9jOpDLV",
        "outputId": "7b356774-1300-40a8-c25d-a5029fd45bf7"
      },
      "execution_count": null,
      "outputs": [
        {
          "output_type": "execute_result",
          "data": {
            "text/plain": [
              "{1, 2, 3}"
            ]
          },
          "metadata": {},
          "execution_count": 3
        }
      ]
    },
    {
      "cell_type": "markdown",
      "source": [
        "**Faster Membership Tests:**\n",
        "\n",
        "Sets provide faster membership testing (in keyword) compared to lists."
      ],
      "metadata": {
        "id": "pxPuejO-qBBu"
      }
    },
    {
      "cell_type": "code",
      "source": [
        "my_set={1,2,3}\n",
        "2 in my_set"
      ],
      "metadata": {
        "colab": {
          "base_uri": "https://localhost:8080/"
        },
        "id": "EwuJdhDPp5jd",
        "outputId": "b1191731-6539-4c96-da8e-38804c98798b"
      },
      "execution_count": null,
      "outputs": [
        {
          "output_type": "execute_result",
          "data": {
            "text/plain": [
              "True"
            ]
          },
          "metadata": {},
          "execution_count": 4
        }
      ]
    },
    {
      "cell_type": "code",
      "source": [
        "my_set=[1,2,3]\n",
        "my_set\n",
        "2 in my_set"
      ],
      "metadata": {
        "colab": {
          "base_uri": "https://localhost:8080/"
        },
        "id": "-edw7FK6qmMW",
        "outputId": "59f73663-b23f-4fdd-8467-37023a0ed1a9"
      },
      "execution_count": null,
      "outputs": [
        {
          "output_type": "execute_result",
          "data": {
            "text/plain": [
              "True"
            ]
          },
          "metadata": {},
          "execution_count": 6
        }
      ]
    },
    {
      "cell_type": "code",
      "source": [],
      "metadata": {
        "id": "7SP7uGVbqtVE"
      },
      "execution_count": null,
      "outputs": []
    },
    {
      "cell_type": "markdown",
      "source": [
        "**Efficient Set Operations:**\n",
        "\n",
        "Sets are optimized for set operations like union, intersection, difference, and symmetric difference. These operations are more efficient on sets than on lists.\n",
        "\n"
      ],
      "metadata": {
        "id": "MNwsXY2zq3nm"
      }
    },
    {
      "cell_type": "code",
      "source": [
        "set1={1,2,3}\n",
        "set2={3,4,5}\n",
        "set1 & set2        # gives intersection"
      ],
      "metadata": {
        "colab": {
          "base_uri": "https://localhost:8080/"
        },
        "id": "w5nzo6a_q_wi",
        "outputId": "b0e5c816-45f7-4c82-9eb6-ccec2cce8bcf"
      },
      "execution_count": null,
      "outputs": [
        {
          "output_type": "execute_result",
          "data": {
            "text/plain": [
              "{3}"
            ]
          },
          "metadata": {},
          "execution_count": 7
        }
      ]
    },
    {
      "cell_type": "code",
      "source": [],
      "metadata": {
        "id": "9OD1dWLfq3Mg"
      },
      "execution_count": null,
      "outputs": []
    },
    {
      "cell_type": "markdown",
      "source": [
        "**No Order:**\n",
        "\n",
        "If you don't care about the order of elements, sets are a good choice. Lists maintain order, so if you need to preserve the order of insertion, a list would be more appropriate.\n",
        "\n",
        "6.**What is a string in Python, and how is it different from a list?**\n",
        "\n",
        "A string in Python is a sequence of characters, enclosed within single quotes (') or double quotes (\"). It is an immutable data type, meaning that once a string is created, it cannot be modified.\n",
        "\n",
        "**Key Characteristics of a String:**\n",
        "\n",
        "**Immutable:** Strings cannot be changed after they are created. Any operation that modifies a string actually creates a new string.\n",
        "\n",
        "**Indexed:** You can access individual characters in a string using an index (starting from 0).\n",
        "\n",
        "**Concatenation:** You can combine strings using the + operator, or repeat strings using *.\n",
        "\n",
        "**Slicing**: You can extract substrings using slicing.\n",
        "\n",
        "**LIST**\n",
        "\n",
        "A list in Python is an ordered collection of items (which can be of any data type, including other lists), and is defined using square brackets ([]). Lists are mutable, meaning their elements can be modified, added, or removed after creation.\n",
        "\n",
        "**Key Characteristics of a List:**\n",
        "\n",
        "**Mutable:** You can modify the contents of a list (add, remove, or change items).\n",
        "\n",
        "**Ordered**: Lists maintain the order of insertion. Each item has an index, and you can access them by their index.\n",
        "\n",
        "**Heterogeneous:** Lists can store elements of different data types.\n",
        "\n",
        "\n",
        "---\n",
        "\n",
        "\n",
        "\n",
        "7.**How do tuples ensure data integrity in Python?**\n",
        "\n",
        "In Python, tuples ensure data integrity primarily through their **immutability**. This means that once a tuple is created, its contents cannot be changed—no modifications, additions, or deletions of elements can be made after the tuple's creation. This immutability property ensures that the data remains consistent and protected from accidental or intentional changes during the program’s execution.\n",
        "\n",
        "**Immutability (No Modifications):**\n",
        "\n",
        "Once a tuple is created, its elements cannot be altered.\n",
        "\n",
        "This prevents accidental changes to critical data during runtime.\n"
      ],
      "metadata": {
        "id": "96h3quNvrT0R"
      }
    },
    {
      "cell_type": "code",
      "source": [
        "my_tuple=(1,2,3)\n",
        "my_tuple[1]=5                   # this will show error bcoz tuple does not show item assignment"
      ],
      "metadata": {
        "colab": {
          "base_uri": "https://localhost:8080/",
          "height": 176
        },
        "id": "sSqaVvgFtYY6",
        "outputId": "1318b58a-82aa-4af5-8b28-a8f0ea80204d"
      },
      "execution_count": null,
      "outputs": [
        {
          "output_type": "error",
          "ename": "TypeError",
          "evalue": "'tuple' object does not support item assignment",
          "traceback": [
            "\u001b[0;31m---------------------------------------------------------------------------\u001b[0m",
            "\u001b[0;31mTypeError\u001b[0m                                 Traceback (most recent call last)",
            "\u001b[0;32m<ipython-input-8-6e0559922df3>\u001b[0m in \u001b[0;36m<cell line: 2>\u001b[0;34m()\u001b[0m\n\u001b[1;32m      1\u001b[0m \u001b[0mmy_tuple\u001b[0m\u001b[0;34m=\u001b[0m\u001b[0;34m(\u001b[0m\u001b[0;36m1\u001b[0m\u001b[0;34m,\u001b[0m\u001b[0;36m2\u001b[0m\u001b[0;34m,\u001b[0m\u001b[0;36m3\u001b[0m\u001b[0;34m)\u001b[0m\u001b[0;34m\u001b[0m\u001b[0;34m\u001b[0m\u001b[0m\n\u001b[0;32m----> 2\u001b[0;31m \u001b[0mmy_tuple\u001b[0m\u001b[0;34m[\u001b[0m\u001b[0;36m1\u001b[0m\u001b[0;34m]\u001b[0m\u001b[0;34m=\u001b[0m\u001b[0;36m5\u001b[0m                   \u001b[0;31m# this will show error bcoz tuple does not show item assignment\u001b[0m\u001b[0;34m\u001b[0m\u001b[0;34m\u001b[0m\u001b[0m\n\u001b[0m",
            "\u001b[0;31mTypeError\u001b[0m: 'tuple' object does not support item assignment"
          ]
        }
      ]
    },
    {
      "cell_type": "code",
      "source": [],
      "metadata": {
        "id": "kzBEng0stouH"
      },
      "execution_count": null,
      "outputs": []
    },
    {
      "cell_type": "markdown",
      "source": [
        "**Consistent Data Storage:**\n",
        "\n",
        "\n",
        "\n",
        "*   Since the contents of a tuple cannot be changed, it provides a consistent and reliable way to store data that should not be modified.\n",
        "\n",
        "*   Tuples are often used for data that is meant to be read-only, such as coordinates, constant values, or database records that should remain unchanged.\n",
        "\n"
      ],
      "metadata": {
        "id": "sC6XUXsNtwE1"
      }
    },
    {
      "cell_type": "code",
      "source": [
        "coordinates=(40.744,-74.006)   # tuple for latitude and longitude cant be changed"
      ],
      "metadata": {
        "id": "XMK1p6not9SJ"
      },
      "execution_count": null,
      "outputs": []
    },
    {
      "cell_type": "markdown",
      "source": [
        "\n",
        "\n",
        "---\n",
        "\n",
        "\n",
        "8.**What is a hash table, and how does it relate to dictionaries in Python?**\n",
        "\n",
        " Hash table is a data structure that allows for efficient storage and retrieval of key-value pairs. It works by using a hash function to compute an index (hash) from a key, and this index is used to store and quickly access the corresponding value in an array or similar structure.\n",
        "\n",
        " **Key Characteristics of Hash Tables:**\n",
        "\n",
        " **Hash Function:**  \n",
        " The hash function takes a key and computes an index, which is used to determine where the associated value should be stored in the underlying array. The function aims to distribute keys evenly across the table.\n",
        "\n",
        " **Hash Tables and Python Dictionaries:**\n",
        "\n",
        "In Python, dictionaries (dict) are built on top of a hash table. This means that Python dictionaries use a hash table internally to store key-value pairs, allowing for fast lookups, insertions, and deletions.\n",
        "\n",
        "**Key Properties of Python Dictionaries (as hash tables):**\n",
        "\n",
        "**Hashable Keys:**\n",
        "\n",
        "In a Python dictionary, the keys must be hashable (i.e., they must have a fixed hash value). Immutable types like strings, integers, and tuples are hashable, but mutable types like lists and dictionaries are not hashable.\n",
        "\n"
      ],
      "metadata": {
        "id": "F4z8EIXEuVlY"
      }
    },
    {
      "cell_type": "code",
      "source": [
        "# python dictionaries uses a hash table\n",
        "my_dict={\"menka\":28,\"radha\":29}\n",
        "# hash table internally maos keys to value via hash function\n",
        "# example: the key \"menka\" might hash to index 0 ,\"radha\" to index 1\n",
        "# access the value by key(hash table lookup)\n",
        "my_dict[\"menka\"]"
      ],
      "metadata": {
        "colab": {
          "base_uri": "https://localhost:8080/"
        },
        "id": "KcjbAfB9v8Ya",
        "outputId": "4a40d4bc-9414-4a5b-a416-9704a5e1925b"
      },
      "execution_count": null,
      "outputs": [
        {
          "output_type": "execute_result",
          "data": {
            "text/plain": [
              "28"
            ]
          },
          "metadata": {},
          "execution_count": 11
        }
      ]
    },
    {
      "cell_type": "code",
      "source": [],
      "metadata": {
        "id": "8BDc5peSwy4_"
      },
      "execution_count": null,
      "outputs": []
    },
    {
      "cell_type": "markdown",
      "source": [
        "9. **Can lists contain different data types in Python?**\n",
        "\n",
        "Yes, in Python, lists can contain elements of different data types. This is one of the key features of Python lists, making them flexible and versatile for various types of collections.\n",
        "\n",
        "Example:"
      ],
      "metadata": {
        "id": "K4Ou8HLBw4Sk"
      }
    },
    {
      "cell_type": "code",
      "source": [
        "my_list=[1,5.5,\"menka\",3+2j,(\"moon\"),{\"radha\":26},[5,4]]\n",
        "print(my_list)"
      ],
      "metadata": {
        "colab": {
          "base_uri": "https://localhost:8080/"
        },
        "id": "YHkfo9uYGAJq",
        "outputId": "b29698cc-e203-406c-c812-74b244925db4"
      },
      "execution_count": null,
      "outputs": [
        {
          "output_type": "stream",
          "name": "stdout",
          "text": [
            "[1, 5.5, 'menka', (3+2j), 'moon', {'radha': 26}, [5, 4]]\n"
          ]
        }
      ]
    },
    {
      "cell_type": "code",
      "source": [],
      "metadata": {
        "id": "tMMyeov4GTX8"
      },
      "execution_count": null,
      "outputs": []
    },
    {
      "cell_type": "markdown",
      "source": [
        "1.**Explain why strings are immutable in Python**\n",
        "\n",
        "Strings are immutable because once a string is created, its contents cannot be changed or modified.\n",
        "\n",
        "**Reasons for String Immutability in Python:**\n",
        "\n",
        "*Efficiency in Memory Management*\n",
        "\n",
        "**String interning:** Python uses a technique called string interning, where identical string literals are stored only once in memory. This saves memory when the same string appears multiple times in a program. If strings were mutable, it would be difficult to share the same memory location for identical strings.\n",
        "\n",
        "\n"
      ],
      "metadata": {
        "id": "6pny2pCEGaDY"
      }
    },
    {
      "cell_type": "code",
      "source": [
        "str1=\"menka\"         # bothpoints to same memory location\n",
        "str2=\"menka\"\n",
        "print(str1 is str2)"
      ],
      "metadata": {
        "colab": {
          "base_uri": "https://localhost:8080/"
        },
        "id": "UTV2lxvUIZ6L",
        "outputId": "1bf50558-6ff9-4e9a-eeb2-f579e10d18d6"
      },
      "execution_count": null,
      "outputs": [
        {
          "output_type": "stream",
          "name": "stdout",
          "text": [
            "True\n"
          ]
        }
      ]
    },
    {
      "cell_type": "code",
      "source": [],
      "metadata": {
        "id": "ZZJ2Lb9-InkQ"
      },
      "execution_count": null,
      "outputs": []
    },
    {
      "cell_type": "markdown",
      "source": [
        "**Preventing accidental changes**\n",
        "\n",
        "Immutability ensures that strings cannot be altered by accident. If you pass a string to a function, you can be sure that the function cannot modify the original string.\n"
      ],
      "metadata": {
        "id": "gU5VPHlLJgbK"
      }
    },
    {
      "cell_type": "code",
      "source": [
        "def new_string (s):\n",
        "  s+=\"kumari\"\n",
        "  print(s)\n",
        "\n",
        "s=\"menka\""
      ],
      "metadata": {
        "id": "RmbuiH3CJqWj"
      },
      "execution_count": null,
      "outputs": []
    },
    {
      "cell_type": "code",
      "source": [],
      "metadata": {
        "id": "pnwc5aTEK30b"
      },
      "execution_count": null,
      "outputs": []
    },
    {
      "cell_type": "markdown",
      "source": [
        "**Consistency and Hashability:**\n",
        "\n",
        "Strings are **hashable** in Python, which means they can be used as keys in dictionaries and elements in sets. The immutability of strings ensures that their hash value remains constant throughout their lifetime. If strings were mutable, their hash value could change, causing problems when used as dictionary keys or set elements.\n",
        "\n"
      ],
      "metadata": {
        "id": "2A8Pc3vWLGtt"
      }
    },
    {
      "cell_type": "markdown",
      "source": [],
      "metadata": {
        "id": "Q_6NMMzOLfYg"
      }
    },
    {
      "cell_type": "code",
      "source": [
        "my_dict={\"menka\":28}      # if strings were mutable ,modifying the string could change its hassh value\n",
        "\"menka\" in my_dict"
      ],
      "metadata": {
        "colab": {
          "base_uri": "https://localhost:8080/"
        },
        "id": "wZlutnhYLR-w",
        "outputId": "67cd7257-be9f-44b9-a1c5-2e1fcdb0fc66"
      },
      "execution_count": null,
      "outputs": [
        {
          "output_type": "execute_result",
          "data": {
            "text/plain": [
              "True"
            ]
          },
          "metadata": {},
          "execution_count": 6
        }
      ]
    },
    {
      "cell_type": "code",
      "source": [],
      "metadata": {
        "id": "S5r_Gm-QLedu"
      },
      "execution_count": null,
      "outputs": []
    },
    {
      "cell_type": "markdown",
      "source": [
        "**Practical Example of Immutability:**\n",
        "\n"
      ],
      "metadata": {
        "id": "WyGjHk7QMJsA"
      }
    },
    {
      "cell_type": "code",
      "source": [
        "# example of string immutability            # it will show error\n",
        "s=\"menka\"\n",
        "s[0]=\"f\""
      ],
      "metadata": {
        "colab": {
          "base_uri": "https://localhost:8080/",
          "height": 176
        },
        "id": "fYJ7clQ3MMDX",
        "outputId": "c5e7bb77-f467-4f0d-a5e2-bec3e19ef8b7"
      },
      "execution_count": null,
      "outputs": [
        {
          "output_type": "error",
          "ename": "TypeError",
          "evalue": "'str' object does not support item assignment",
          "traceback": [
            "\u001b[0;31m---------------------------------------------------------------------------\u001b[0m",
            "\u001b[0;31mTypeError\u001b[0m                                 Traceback (most recent call last)",
            "\u001b[0;32m<ipython-input-7-1abb27dc1cdd>\u001b[0m in \u001b[0;36m<cell line: 3>\u001b[0;34m()\u001b[0m\n\u001b[1;32m      1\u001b[0m \u001b[0;31m# example of string immutability\u001b[0m\u001b[0;34m\u001b[0m\u001b[0;34m\u001b[0m\u001b[0m\n\u001b[1;32m      2\u001b[0m \u001b[0ms\u001b[0m\u001b[0;34m=\u001b[0m\u001b[0;34m\"menka\"\u001b[0m\u001b[0;34m\u001b[0m\u001b[0;34m\u001b[0m\u001b[0m\n\u001b[0;32m----> 3\u001b[0;31m \u001b[0ms\u001b[0m\u001b[0;34m[\u001b[0m\u001b[0;36m0\u001b[0m\u001b[0;34m]\u001b[0m\u001b[0;34m=\u001b[0m\u001b[0;34m\"f\"\u001b[0m\u001b[0;34m\u001b[0m\u001b[0;34m\u001b[0m\u001b[0m\n\u001b[0m",
            "\u001b[0;31mTypeError\u001b[0m: 'str' object does not support item assignment"
          ]
        }
      ]
    },
    {
      "cell_type": "code",
      "source": [
        "# u can create a new string by concatenaating or slicing\n",
        "new_string=\"f\" + s[1:]\n",
        "new_string"
      ],
      "metadata": {
        "colab": {
          "base_uri": "https://localhost:8080/",
          "height": 36
        },
        "id": "QMGx-pROMXtW",
        "outputId": "d9cb5654-25da-49eb-cfa6-4eba0166032a"
      },
      "execution_count": null,
      "outputs": [
        {
          "output_type": "execute_result",
          "data": {
            "text/plain": [
              "'fenka'"
            ],
            "application/vnd.google.colaboratory.intrinsic+json": {
              "type": "string"
            }
          },
          "metadata": {},
          "execution_count": 9
        }
      ]
    },
    {
      "cell_type": "code",
      "source": [],
      "metadata": {
        "id": "6mMeyOatMfs8"
      },
      "execution_count": null,
      "outputs": []
    },
    {
      "cell_type": "markdown",
      "source": [
        "\n",
        "\n",
        "---\n",
        "\n",
        "\n",
        "**11.What advantages do dictionaries offer over lists for certain tasks?**\n",
        "\n",
        "Dictionaries in Python offer several advantages over lists for certain tasks, particularly when it comes to storing and managing data that involves key-value pairs, fast lookups, and efficient data access.\n",
        "\n",
        "**Faster Lookups by Key (O(1) Average Time Complexity):**\n",
        "\n",
        "*Dictionaries*\n",
        "\n",
        "This means that accessing a value using a key is much faster than searching for an item in a list.\n",
        "\n",
        "*Lists*\n",
        "\n",
        "Lists, on the other hand, require linear time complexity (O(n)) for lookups, where Python must search through each element in the list until it finds the desired item.\n",
        "\n",
        "\n",
        "\n"
      ],
      "metadata": {
        "id": "Ly8ZUCv6M4fv"
      }
    },
    {
      "cell_type": "code",
      "source": [
        "my_dict={\"radha\":\"shyam\",\"shiv\":\"parvati\"}\n",
        "print(my_dict[\"shiv\"])"
      ],
      "metadata": {
        "colab": {
          "base_uri": "https://localhost:8080/"
        },
        "id": "OrwOInwSN4xd",
        "outputId": "89a266bc-0f93-4214-c9f8-1e3de4435847"
      },
      "execution_count": null,
      "outputs": [
        {
          "output_type": "stream",
          "name": "stdout",
          "text": [
            "parvati\n"
          ]
        }
      ]
    },
    {
      "cell_type": "code",
      "source": [
        "my_list=[\"apple\",\"mango\"]\n",
        "my_list.index(\"mango\")"
      ],
      "metadata": {
        "colab": {
          "base_uri": "https://localhost:8080/"
        },
        "id": "RNWX9O4YOOVx",
        "outputId": "60796eaa-2561-4a95-80eb-58e9b939755e"
      },
      "execution_count": null,
      "outputs": [
        {
          "output_type": "execute_result",
          "data": {
            "text/plain": [
              "1"
            ]
          },
          "metadata": {},
          "execution_count": 12
        }
      ]
    },
    {
      "cell_type": "code",
      "source": [],
      "metadata": {
        "id": "Fl5d_bJBOpbh"
      },
      "execution_count": null,
      "outputs": []
    },
    {
      "cell_type": "markdown",
      "source": [
        "**Key-Value Pairs (Association of Data):**\n",
        "\n",
        "\n",
        "*   **Dictionaries**\n",
        "\n",
        " store data as key-value pairs, which is useful when you want to associate a specific value with a unique key. This allows for more meaningful relationships between data, such as mapping names to phone numbers, products to prices, or IDs to user information.\n",
        "\n",
        "\n",
        "*  **Lists**\n",
        " only store ordered collections of items without a direct way to associate a key with each item, making them less suitable for tasks where associations are needed.\n",
        "\n",
        "\n",
        "\n"
      ],
      "metadata": {
        "id": "c6DewjAuO0Wz"
      }
    },
    {
      "cell_type": "code",
      "source": [
        "# Using a dictionary to map employee names to their salaries\n",
        "employee_salaries = {'menka': 50000, 'Bob': 60000, 'radha': 70000}\n",
        "(employee_salaries['Bob'])\n"
      ],
      "metadata": {
        "colab": {
          "base_uri": "https://localhost:8080/"
        },
        "id": "4ZPwODXQPVzS",
        "outputId": "083fdc2b-9031-4cf1-960a-cfe1689922c1"
      },
      "execution_count": null,
      "outputs": [
        {
          "output_type": "execute_result",
          "data": {
            "text/plain": [
              "60000"
            ]
          },
          "metadata": {},
          "execution_count": 13
        }
      ]
    },
    {
      "cell_type": "code",
      "source": [
        "# Using a list (no key-value association)\n",
        "employee_salaries_list = ['Alice', 50000, 'Bob', 60000, 'Charlie', 70000]\n",
        "# You would have to search through the list or rely on indices, which is less efficient."
      ],
      "metadata": {
        "id": "0kGkM0sFPixj"
      },
      "execution_count": null,
      "outputs": []
    },
    {
      "cell_type": "markdown",
      "source": [],
      "metadata": {
        "id": "ASQXbu4OC0Oy"
      }
    },
    {
      "cell_type": "code",
      "source": [],
      "metadata": {
        "id": "CvKQG-c1PwiC"
      },
      "execution_count": null,
      "outputs": []
    },
    {
      "cell_type": "markdown",
      "source": [
        "\n",
        "\n",
        "---\n",
        "\n",
        "\n",
        "**12. Describe a scenario where using a tuple would be preferable over a list**\n",
        "\n",
        "A scenario where using a tuple would be preferable over a list is when you need to store immutable data, where the collection of items should not change during the program's execution, and you want to ensure data integrity.\n",
        "\n",
        "---\n",
        "\n",
        "\n",
        "\n",
        "**Example Scenario: Storing Coordinates (GPS Data)**\n",
        "\n",
        "\n",
        "Consider a case where you're working with geographical coordinates (latitude, longitude), and you need to store these values to represent a fixed location on Earth. The coordinates, once defined, should never be modified during the program's execution because changing them could represent an error in the data. Using a tuple in this case would be appropriate.\n",
        "\n",
        "\n",
        "---\n",
        "\n",
        "\n",
        "\n",
        "\n",
        "**13. How do sets handle duplicate values in Python?**\n",
        "\n",
        "Sets automatically remove duplicate values. A set is an unordered collection of unique elements, and it does not allow repeated items. When you try to add a duplicate value to a set, Python simply ignores it.\n",
        "\n",
        "**Key Points About Sets and Duplicates:**\n",
        "\n",
        "\n",
        "\n",
        "* **unique elements**\n",
        " A set automatically enforces uniqueness. If you attempt to add an element that already exists in the set, it won’t be added again.\n",
        "\n",
        "*   **No Order:** Sets are unordered, meaning the elements are not stored in any specific order. Therefore, duplicates are removed based on their value, not their position.\n",
        "\n"
      ],
      "metadata": {
        "id": "-2otR0NGQOus"
      }
    },
    {
      "cell_type": "code",
      "source": [
        "#Creating a set with duplicate values\n",
        "my_set = {1, 2, 3, 4, 5,5,6,7,8,8, 3, 4, 2}\n",
        "my_set"
      ],
      "metadata": {
        "colab": {
          "base_uri": "https://localhost:8080/"
        },
        "id": "Tekhh4uaDNbA",
        "outputId": "f4819187-e280-43ee-97ab-96be26ec488f"
      },
      "execution_count": null,
      "outputs": [
        {
          "output_type": "execute_result",
          "data": {
            "text/plain": [
              "{1, 2, 3, 4, 5, 6, 7, 8}"
            ]
          },
          "metadata": {},
          "execution_count": 1
        }
      ]
    },
    {
      "cell_type": "code",
      "source": [
        "# duplicates values are removed\n"
      ],
      "metadata": {
        "id": "wJYqip4IDX6l"
      },
      "execution_count": null,
      "outputs": []
    },
    {
      "cell_type": "code",
      "source": [],
      "metadata": {
        "id": "4j9vsT0LDhKD"
      },
      "execution_count": null,
      "outputs": []
    },
    {
      "cell_type": "markdown",
      "source": [
        "14.**How does the “in” keyword work differently for lists and dictionaries**\n",
        "\n",
        "In keyword is used to check for membership, but its behavior differs depending on whether you are using a list or a dictionary.\n",
        "\n",
        "1.**in with Lists:**\n",
        "\n",
        "\n",
        "When you use the in keyword with a list, it checks whether a specific value is present in the list.\n",
        "\n",
        "\n",
        "*   Time complexity: Checking membership in a list is O(n), where n is the number of elements in the list. This is because it may have to check each element until it finds a match.\n",
        "\n",
        "\n"
      ],
      "metadata": {
        "id": "ux239RbVDnPr"
      }
    },
    {
      "cell_type": "code",
      "source": [
        "list=[\"mango\",\"apple\",\"grapes\"]\n",
        "\"mango\" in list"
      ],
      "metadata": {
        "colab": {
          "base_uri": "https://localhost:8080/"
        },
        "id": "nHnWD2IaEk47",
        "outputId": "49395733-0298-498c-b4e6-a6a5340abd84"
      },
      "execution_count": null,
      "outputs": [
        {
          "output_type": "execute_result",
          "data": {
            "text/plain": [
              "True"
            ]
          },
          "metadata": {},
          "execution_count": 3
        }
      ]
    },
    {
      "cell_type": "code",
      "source": [],
      "metadata": {
        "id": "PMcl4M9eExP7"
      },
      "execution_count": null,
      "outputs": []
    },
    {
      "cell_type": "markdown",
      "source": [
        "**in with Dictionaries:**\n",
        "\n",
        "In keyword with a dictionary, it checks for the presence of a key, not a value. It does not check the values of the dictionary; rather, it checks if the specified key is present in the dictionary.\n",
        "\n",
        "**Time complexity:**\n",
        "\n",
        " Checking membership in a dictionary is O(1) on average, thanks to the underlying hash table implementation. This makes it much faster for checking key membership compared to lists."
      ],
      "metadata": {
        "id": "ie4uH8GLEyc4"
      }
    },
    {
      "cell_type": "code",
      "source": [
        "my_dict={\"ram\":\"banglore\",\"shyam\":\"delhi\"}\n",
        "\"ram\" in my_dict"
      ],
      "metadata": {
        "colab": {
          "base_uri": "https://localhost:8080/"
        },
        "id": "udyr9g5TFP6Y",
        "outputId": "b684f2cf-9740-4419-e009-925d270883b2"
      },
      "execution_count": null,
      "outputs": [
        {
          "output_type": "execute_result",
          "data": {
            "text/plain": [
              "True"
            ]
          },
          "metadata": {},
          "execution_count": 6
        }
      ]
    },
    {
      "cell_type": "markdown",
      "source": [
        "**Key Differences:**\n",
        "\n",
        "*With lists:*\n",
        "\n",
        "The in keyword checks if a value is present in the list (i.e., it searches for the element).\n",
        "\n",
        "\n",
        "*With dictionaries:*\n",
        "\n",
        "The in keyword checks if a key is present in the dictionary (i.e., it searches for the key, not the value)."
      ],
      "metadata": {
        "id": "UZZ9brBHF8tZ"
      }
    },
    {
      "cell_type": "markdown",
      "source": [
        "15.**Can you modify the elements of a tuple? Explain why or why not**\n",
        "\n",
        "\n",
        "\n",
        "No, you **cannot modify the elements of a tuple** in Python because tuples are immutable. Once a tuple is created, its elements cannot be changed, added, or removed. This immutability is a key characteristic of tuples .\n",
        "\n",
        "**Reasons Why Tuples Are Immutable:**\n",
        "\n",
        "\n",
        "\n",
        "1.   **Immutability:**\n",
        " Tuples are designed to be immutable, meaning their state (the data they hold) cannot be changed after they are created. This is enforced by Python's internal rules about tuples, and any attempt to modify the elements will result in an error.\n",
        "\n",
        "1.   **Memory Efficiency**: Since tuples cannot be changed after creation, Python can optimize their memory usage. For example, identical tuples can be shared between different parts of the program (using a process called interning), reducing memory overhead.\n",
        "\n",
        "3.  **Hashability:** Tuples are hashable, meaning they can be used as keys in dictionaries or as elements in sets. For an object to be hashable, it must be immutable. If tuples were mutable, their hash values could change, causing problems in sets or dictionaries.\n",
        "\n",
        "**Modifying a Tuple by Creating a New One:**\n",
        "\n",
        "While you cannot modify an existing tuple, you can create a new tuple by concatenating or slicing tuples. Here's an example of how to \"modify\" a tuple by creating a new one:\n",
        "\n",
        "\n",
        "\n",
        "\n",
        "\n"
      ],
      "metadata": {
        "id": "m2nrOb9bGKjr"
      }
    },
    {
      "cell_type": "markdown",
      "source": [],
      "metadata": {
        "id": "X8z6Fdb3GITt"
      }
    },
    {
      "cell_type": "code",
      "source": [
        "# creating a tuple\n",
        "my_tuple=(\"ram\",\"shyam\")\n",
        "# creating a new tuple  with modified values\n",
        "new_tuple=my_tuple[1:]+(\"radha\",)"
      ],
      "metadata": {
        "id": "h5lh-sjJHuE0"
      },
      "execution_count": null,
      "outputs": []
    },
    {
      "cell_type": "code",
      "source": [
        "new_tuple"
      ],
      "metadata": {
        "colab": {
          "base_uri": "https://localhost:8080/"
        },
        "id": "ZprsjgF5FeTq",
        "outputId": "a864c0a6-e2f0-49e5-8576-de69d82a1a89"
      },
      "execution_count": null,
      "outputs": [
        {
          "output_type": "execute_result",
          "data": {
            "text/plain": [
              "('shyam', 'radha')"
            ]
          },
          "metadata": {},
          "execution_count": 8
        }
      ]
    },
    {
      "cell_type": "code",
      "source": [],
      "metadata": {
        "id": "6SzM0fkMId_4"
      },
      "execution_count": null,
      "outputs": []
    },
    {
      "cell_type": "markdown",
      "source": [
        "\n",
        "\n",
        "---\n",
        "\n",
        "\n",
        "16.**What is a nested dictionary, and give an example of its use case?**\n",
        "\n",
        "A nested dictionary is a dictionary in Python where the values of some or all keys are themselves dictionaries.\n",
        "\n",
        "**Example Use Case: Storing Employee Information**\n",
        "\n",
        "Suppose you want to store employee data for a company. Each employee has a unique ID, and for each employee, you store their name, age, and address. This can be represented as a nested dictionary where each employee ID points to a dictionary of their details.\n",
        "\n"
      ],
      "metadata": {
        "id": "J1TJIFL8Iyll"
      }
    },
    {
      "cell_type": "code",
      "source": [],
      "metadata": {
        "id": "vqOauexSKodQ"
      },
      "execution_count": null,
      "outputs": []
    },
    {
      "cell_type": "code",
      "source": [
        " # Creating a nested dictionary to store employee information\n",
        " employees={1001:{\"name\":\"ajay\",\"age\":40,\"address\":\"banglore}\",1002:{\"name\":\"raam\",\"age\":45,\"address\":\"mumbai\"}}}"
      ],
      "metadata": {
        "id": "EBspx0FbKrTS"
      },
      "execution_count": null,
      "outputs": []
    },
    {
      "cell_type": "code",
      "source": [
        "employees[1001][\"name\"]"
      ],
      "metadata": {
        "colab": {
          "base_uri": "https://localhost:8080/",
          "height": 36
        },
        "id": "OY6OZylmLllz",
        "outputId": "d2d1d638-5e34-40f0-89b9-6ba568adafd3"
      },
      "execution_count": null,
      "outputs": [
        {
          "output_type": "execute_result",
          "data": {
            "text/plain": [
              "'ajay'"
            ],
            "application/vnd.google.colaboratory.intrinsic+json": {
              "type": "string"
            }
          },
          "metadata": {},
          "execution_count": 13
        }
      ]
    },
    {
      "cell_type": "code",
      "source": [],
      "metadata": {
        "id": "qJKTrHebLxsG"
      },
      "execution_count": null,
      "outputs": []
    },
    {
      "cell_type": "markdown",
      "source": [
        "\n",
        "\n",
        "---\n",
        "\n",
        "\n",
        "17.**Describe the time complexity of accessing elements in a dictionary**\n",
        "\n",
        "18.**In what situations are lists preferred over dictionaries**\n",
        "\n",
        "Lists and dictionaries are both powerful data structures in Python, but they are optimized for different types of use cases. While dictionaries are ideal for situations where you need fast lookups by key, lists are preferred in scenarios where you need:\n",
        "\n",
        "\n",
        "1.   **Ordered Data**\n",
        "\n",
        "Lists maintain the order of elements, which makes them useful when the sequence of elements is important. You can iterate through a list in the order in which the elements were added.\n",
        "\n",
        "**EXAMPLE**\n",
        "\n",
        "If you're dealing with a series of steps in a process, a list can be a natural fit since you can preserve the order and access elements by their position (index).\n",
        "\n",
        "\n",
        "\n"
      ],
      "metadata": {
        "id": "0qZThPsxMkM5"
      }
    },
    {
      "cell_type": "code",
      "source": [
        "steps = [\"Wash hands\", \"Prepare ingredients\", \"Cook\", \"Serve\"]"
      ],
      "metadata": {
        "id": "TteaDli_Omoa"
      },
      "execution_count": null,
      "outputs": []
    },
    {
      "cell_type": "code",
      "source": [],
      "metadata": {
        "id": "G-JvtdMYOvBQ"
      },
      "execution_count": null,
      "outputs": []
    },
    {
      "cell_type": "markdown",
      "source": [
        "2.   **Index-Based Access**\n",
        "\n",
        "Lists are ideal when you need to access elements by their index (position) rather than a key. With a list, you can easily retrieve elements based on their position in the sequence.\n"
      ],
      "metadata": {
        "id": "WxXDM316Oydy"
      }
    },
    {
      "cell_type": "code",
      "source": [
        "numbers = [10, 20, 30, 40]\n",
        "print(numbers[2])"
      ],
      "metadata": {
        "colab": {
          "base_uri": "https://localhost:8080/"
        },
        "id": "9ZR2DtloPDmh",
        "outputId": "d2c97c7a-0fea-4d0c-a87a-19f43c32caa6"
      },
      "execution_count": null,
      "outputs": [
        {
          "output_type": "stream",
          "name": "stdout",
          "text": [
            "30\n"
          ]
        }
      ]
    },
    {
      "cell_type": "code",
      "source": [],
      "metadata": {
        "id": "dMkyUIsaPHHc"
      },
      "execution_count": null,
      "outputs": []
    },
    {
      "cell_type": "markdown",
      "source": [
        "3.    **Sorting and Slicing**\n",
        "\n",
        "Lists are preferable when you need to perform sorting or slicing of elements, as they support these operations directly, which are less straightforward with dictionaries.\n",
        "\n"
      ],
      "metadata": {
        "id": "EUz4N0dRPekN"
      }
    },
    {
      "cell_type": "code",
      "source": [
        "# SORTING A LIST\n",
        "numbers=[9,8,7,6,5,4,3,2,1]\n",
        "numbers.sort()\n",
        "numbers"
      ],
      "metadata": {
        "colab": {
          "base_uri": "https://localhost:8080/"
        },
        "id": "WTf1zGZzPryq",
        "outputId": "5b2ae941-12f8-454d-b99c-573ac1828102"
      },
      "execution_count": null,
      "outputs": [
        {
          "output_type": "execute_result",
          "data": {
            "text/plain": [
              "[1, 2, 3, 4, 5, 6, 7, 8, 9]"
            ]
          },
          "metadata": {},
          "execution_count": 16
        }
      ]
    },
    {
      "cell_type": "code",
      "source": [
        "# slicing a list\n",
        "sub_list=numbers[3:6]\n",
        "sub_list"
      ],
      "metadata": {
        "colab": {
          "base_uri": "https://localhost:8080/"
        },
        "id": "VcBsBa5kP8cp",
        "outputId": "7e960bd1-47b0-4bed-9d53-4c9aae0966f8"
      },
      "execution_count": null,
      "outputs": [
        {
          "output_type": "execute_result",
          "data": {
            "text/plain": [
              "[4, 5, 6]"
            ]
          },
          "metadata": {},
          "execution_count": 17
        }
      ]
    },
    {
      "cell_type": "code",
      "source": [],
      "metadata": {
        "id": "7loO24uWQR5Y"
      },
      "execution_count": null,
      "outputs": []
    },
    {
      "cell_type": "markdown",
      "source": [
        "4.    **Memory Efficiency**\n",
        "\n",
        "Lists use less memory than dictionaries because they store just the elements in a contiguous block of memory, while dictionaries require additional overhead for the hash table structure.\n",
        "\n",
        "\n",
        "---\n",
        "\n"
      ],
      "metadata": {
        "id": "pdk5ojPDQVem"
      }
    },
    {
      "cell_type": "markdown",
      "source": [
        "19.**Why are dictionaries considered unordered, and how does that affect data retrieval**\n",
        "\n",
        "\n",
        "The main reason dictionaries are unordered is that they are implemented using a hash table. In a hash table, the keys are hashed into unique hash values, which are then used to determine where the corresponding values are stored in memory. This design allows for efficient lookups, insertions, and deletions, but it does not preserve the order of the elements.\n",
        "\n",
        "**How Does the Unordered Nature Affect Data Retrieval?**\n",
        "\n",
        "\n",
        "\n",
        "1.   **Efficient Lookups:**\n",
        "\n",
        "\n",
        "*   The main advantage of using a dictionary is its efficient O(1) average time complexity for lookups by key. This efficiency is possible because of the hashing mechanism, which allows Python to quickly calculate where a key-value pair is stored in memory. This is much faster than searching through a list or tuple, where you have to check each element in sequence.\n",
        "\n",
        "\n",
        "\n",
        "\n",
        "2.   **Effect on Retrieval**\n",
        "\n",
        "\n",
        "*   The unordered nature of dictionaries does not affect retrieval speed. You can still retrieve the value associated with a given key in constant time, regardless of the order in which the items were added.\n",
        "\n",
        "\n",
        "2.   **Iteration Order (Not Always Predictable in Older Python Versions):**\n",
        "\n",
        "\n",
        "\n",
        "*   In older versions of Python (before 3.7), the order in which you iterate over the dictionary could be completely arbitrary.\n",
        "This means that even if you inserted elements in a specific order, the dictionary could return them in any order when you loop through it.\n",
        "\n",
        "*   In Python 3.7+, the order of iteration is guaranteed to match the order of insertion, but it's important to note that this does not change how data is stored or retrieved (the hashing mechanism still determines the placement of keys in memory).\n",
        "\n",
        "\n",
        "\n",
        "\n"
      ],
      "metadata": {
        "id": "Obx47Ro2Qt0G"
      }
    },
    {
      "cell_type": "code",
      "source": [
        "my_dict={\"apple\":50,\"banana\":\"dozen\"}# no affect on data retieval\n",
        "my_dict[\"banana\"]"
      ],
      "metadata": {
        "colab": {
          "base_uri": "https://localhost:8080/",
          "height": 36
        },
        "id": "yehvLmOyTAyZ",
        "outputId": "77b2f828-3c6d-4b40-9a8e-d3e0d802d33b"
      },
      "execution_count": null,
      "outputs": [
        {
          "output_type": "execute_result",
          "data": {
            "text/plain": [
              "'dozen'"
            ],
            "application/vnd.google.colaboratory.intrinsic+json": {
              "type": "string"
            }
          },
          "metadata": {},
          "execution_count": 21
        }
      ]
    },
    {
      "cell_type": "code",
      "source": [],
      "metadata": {
        "id": "FkJ3qHKqTTQO"
      },
      "execution_count": null,
      "outputs": []
    },
    {
      "cell_type": "code",
      "source": [
        "my_dict = {'apple': 11, 'banana': 22, 'cherry': 33}\n",
        "for key in my_dict:\n",
        "  print(key)"
      ],
      "metadata": {
        "colab": {
          "base_uri": "https://localhost:8080/"
        },
        "id": "nrcgyXb4Uizs",
        "outputId": "67439eb8-318a-4772-9626-2360dce944f8"
      },
      "execution_count": null,
      "outputs": [
        {
          "output_type": "stream",
          "name": "stdout",
          "text": [
            "apple\n",
            "banana\n",
            "cherry\n"
          ]
        }
      ]
    },
    {
      "cell_type": "code",
      "source": [
        "key"
      ],
      "metadata": {
        "colab": {
          "base_uri": "https://localhost:8080/",
          "height": 36
        },
        "id": "S9Yt_ypfUy-x",
        "outputId": "674277f1-73e3-41e7-8dcb-6907c38201e5"
      },
      "execution_count": null,
      "outputs": [
        {
          "output_type": "execute_result",
          "data": {
            "text/plain": [
              "'cherry'"
            ],
            "application/vnd.google.colaboratory.intrinsic+json": {
              "type": "string"
            }
          },
          "metadata": {},
          "execution_count": 25
        }
      ]
    },
    {
      "cell_type": "markdown",
      "source": [
        "\n",
        "\n",
        "---\n",
        "\n",
        "\n",
        "20.**Explain the difference between a list and a dictionary in terms of data retrieval.?**\n",
        "\n",
        "# Difference\n",
        "\n",
        "The difference between a list and a dictionary in terms of data retrieval primarily revolves around how data is accessed and the performance characteristics of accessing that data.\n",
        "\n",
        "**Accessing Data in a List:**\n",
        "\n",
        "A list in Python is an ordered collection of elements, where each element has a specific index (position) that is used to access it.\n",
        "\n",
        "1.    **Access by Index:**\n",
        " In a list, elements are accessed by their index. The index refers to the position of an element in the list, with indexing starting from 0 for the first element.\n",
        "\n",
        "\n",
        "2.    **Time Complexity**:\n",
        " Retrieving an element from a list by its index is very efficient. The time complexity is O(1), meaning it's done in constant time. However, if you need to find an element by its value (not by index), you would need to iterate through the list, which would have a time complexity of O(n), where n is the number of elements in the list.\n",
        "\n",
        "Example (Accessing by Index):\n"
      ],
      "metadata": {
        "id": "g8CYdb_vVSZ1"
      }
    },
    {
      "cell_type": "code",
      "source": [
        "my_list=[\"a\",\"b\",\"c\"]\n",
        "my_list[0]"
      ],
      "metadata": {
        "colab": {
          "base_uri": "https://localhost:8080/",
          "height": 36
        },
        "id": "bJ0zmQoiXZ6o",
        "outputId": "13385010-b043-4846-85b4-9f86029577e1"
      },
      "execution_count": null,
      "outputs": [
        {
          "output_type": "execute_result",
          "data": {
            "text/plain": [
              "'a'"
            ],
            "application/vnd.google.colaboratory.intrinsic+json": {
              "type": "string"
            }
          },
          "metadata": {},
          "execution_count": 26
        }
      ]
    },
    {
      "cell_type": "code",
      "source": [
        "# Searching for an Element (Value-Based Access):\n",
        "\n",
        "my_list=[100,200,300]\n",
        "if 200 in my_list:\n",
        "  print(\"yes present\")\n",
        "# The time complexity for searching for a value in a list is O(n) since it requires scanning through each element to check if it matches the target value."
      ],
      "metadata": {
        "colab": {
          "base_uri": "https://localhost:8080/"
        },
        "id": "SQEpLY9BXj0Z",
        "outputId": "1d89b4c3-904a-4a5f-b356-eaac9af43e36"
      },
      "execution_count": null,
      "outputs": [
        {
          "output_type": "stream",
          "name": "stdout",
          "text": [
            "yes present\n"
          ]
        }
      ]
    },
    {
      "cell_type": "markdown",
      "source": [],
      "metadata": {
        "id": "JwNSjeP0Yltp"
      }
    },
    {
      "cell_type": "markdown",
      "source": [
        " **Accessing Data in a Dictionary:**\n",
        "\n",
        "\n",
        "A dictionary is a collection of key-value pairs, and data is accessed by its key, not by an index.\n",
        "\n",
        "1.   **Access by Key** : In a dictionary, you retrieve a value using its corresponding key. The key is hashed, and the hash value is used to determine the location of the associated value in memory.\n",
        "\n",
        "2.    **Time Complexity**: Accessing a value by its key in a dictionary is O(1) on average, meaning it is done in constant time. This is because Python dictionaries are implemented using hash tables, which allow direct access to the value using the hash of the key. However, in rare cases (such as hash collisions), the time complexity could degrade to O(n), but this is uncommon in practice due to Python's efficient handling of hash collisions.\n",
        "\n",
        "Example (Accessing by Key):"
      ],
      "metadata": {
        "id": "iswi1WGoYowe"
      }
    },
    {
      "cell_type": "code",
      "source": [
        "my_dict={\"A\":100,\"B\":200}\n",
        "print(my_dict[\"A\"])"
      ],
      "metadata": {
        "colab": {
          "base_uri": "https://localhost:8080/"
        },
        "id": "7NR1GcymZLpm",
        "outputId": "202ae30c-927e-4c4e-86b9-a6a18452888c"
      },
      "execution_count": null,
      "outputs": [
        {
          "output_type": "stream",
          "name": "stdout",
          "text": [
            "100\n"
          ]
        }
      ]
    },
    {
      "cell_type": "code",
      "source": [],
      "metadata": {
        "id": "FaBSr-0aX8kK"
      },
      "execution_count": null,
      "outputs": []
    },
    {
      "cell_type": "markdown",
      "source": [
        "**Searching for an Element (Key-Based Access):**\n",
        "\n",
        "\n"
      ],
      "metadata": {
        "id": "z9oCJHl_ZwMp"
      }
    },
    {
      "cell_type": "code",
      "source": [
        "my_dict = {'a': 10222, 'b': 2022, 'c': 302}\n",
        "if 'b' in my_dict:\n",
        "    print(\"Found key 'b'\")"
      ],
      "metadata": {
        "colab": {
          "base_uri": "https://localhost:8080/"
        },
        "id": "Q7s1Z_BQZ4Zf",
        "outputId": "bf0ecf68-847e-4402-db40-2bba25d863b5"
      },
      "execution_count": null,
      "outputs": [
        {
          "output_type": "stream",
          "name": "stdout",
          "text": [
            "Found key 'b'\n"
          ]
        }
      ]
    },
    {
      "cell_type": "markdown",
      "source": [
        "\n",
        "\n",
        "---\n",
        "\n"
      ],
      "metadata": {
        "id": "7a7aciO-aKOv"
      }
    },
    {
      "cell_type": "markdown",
      "source": [
        "**PRACTICAL QUESTIONS**\n",
        "\n"
      ],
      "metadata": {
        "id": "buZBVn_WVb7a"
      }
    },
    {
      "cell_type": "code",
      "source": [
        "# Write a code to create a string with your name and print it.\n",
        "my_name=\"menka kumari\"\n",
        "my_name\n"
      ],
      "metadata": {
        "id": "utUhlTOkaIwg",
        "colab": {
          "base_uri": "https://localhost:8080/",
          "height": 36
        },
        "outputId": "e688a6ac-ab13-4974-bba0-1f1a14617e8b"
      },
      "execution_count": 1,
      "outputs": [
        {
          "output_type": "execute_result",
          "data": {
            "text/plain": [
              "'menka kumari'"
            ],
            "application/vnd.google.colaboratory.intrinsic+json": {
              "type": "string"
            }
          },
          "metadata": {},
          "execution_count": 1
        }
      ]
    },
    {
      "cell_type": "code",
      "source": [
        "# Write a code to find the length of the string \"Hello World\"\n",
        "string=\" i like pw skills\"\n",
        "length=len(string)\n",
        "print(\"the length of the string is\" , length)"
      ],
      "metadata": {
        "colab": {
          "base_uri": "https://localhost:8080/"
        },
        "id": "suEBgA1LeWWD",
        "outputId": "e44c5d76-b366-4721-976b-f881d8b0620d"
      },
      "execution_count": 1,
      "outputs": [
        {
          "output_type": "stream",
          "name": "stdout",
          "text": [
            "the length of the string is 17\n"
          ]
        }
      ]
    },
    {
      "cell_type": "markdown",
      "source": [
        "\n",
        "\n",
        "---\n",
        "\n"
      ],
      "metadata": {
        "id": "_9ffbE_0lC8F"
      }
    },
    {
      "cell_type": "code",
      "source": [
        "# Write a code to slice the first 3 characters from the string \"Python Programming\"\n",
        "string=\"python programming\"\n",
        "sliced_string=string[0:3]\n",
        "print(\"new string is\",sliced_string)"
      ],
      "metadata": {
        "colab": {
          "base_uri": "https://localhost:8080/"
        },
        "id": "nKy0d-SP7hGP",
        "outputId": "b03445cf-2d68-42c3-b059-334c49988830"
      },
      "execution_count": 3,
      "outputs": [
        {
          "output_type": "stream",
          "name": "stdout",
          "text": [
            "new string is pyt\n"
          ]
        }
      ]
    },
    {
      "cell_type": "code",
      "source": [
        "# Write a code to convert the string \"hello\" to uppercase.\n",
        "string=\"hello\"\n",
        "upper_string=string.upper()\n",
        "print(\"upper case is\",upper_string)"
      ],
      "metadata": {
        "colab": {
          "base_uri": "https://localhost:8080/"
        },
        "id": "z3mV18lF8GbY",
        "outputId": "3c55cf02-c3e4-4d75-a45f-49fad4b2af14"
      },
      "execution_count": 4,
      "outputs": [
        {
          "output_type": "stream",
          "name": "stdout",
          "text": [
            "upper case is HELLO\n"
          ]
        }
      ]
    },
    {
      "cell_type": "markdown",
      "source": [
        "\n",
        "\n",
        "---\n",
        "\n"
      ],
      "metadata": {
        "id": "SM8ym0N3lBba"
      }
    },
    {
      "cell_type": "code",
      "source": [
        "# Write a code to replace the word \"apple\" with \"orange\" in the string \"I like apple\".\n",
        "string=\"i like apple\"\n",
        "new_string=string.replace(\"apple\",\"orange\")\n",
        "print(\"new string is\",new_string)"
      ],
      "metadata": {
        "colab": {
          "base_uri": "https://localhost:8080/"
        },
        "id": "iAuMRc2F85y1",
        "outputId": "50dcb844-46bc-4a77-d6f2-2b683c51b133"
      },
      "execution_count": 5,
      "outputs": [
        {
          "output_type": "stream",
          "name": "stdout",
          "text": [
            "new string is i like orange\n"
          ]
        }
      ]
    },
    {
      "cell_type": "markdown",
      "source": [
        "\n",
        "\n",
        "---\n",
        "\n"
      ],
      "metadata": {
        "id": "FRMh-9gblAcb"
      }
    },
    {
      "cell_type": "code",
      "source": [
        "# Write a code to create a list with numbers 1 to 5 and print it.\n",
        "list=[1,2,3,4,5]\n",
        "print(list)"
      ],
      "metadata": {
        "colab": {
          "base_uri": "https://localhost:8080/"
        },
        "id": "96arn87P-UJI",
        "outputId": "680315ba-35a2-45f0-9d97-51ea65251257"
      },
      "execution_count": 7,
      "outputs": [
        {
          "output_type": "stream",
          "name": "stdout",
          "text": [
            "[1, 2, 3, 4, 5]\n"
          ]
        }
      ]
    },
    {
      "cell_type": "markdown",
      "source": [
        "\n",
        "\n",
        "---\n",
        "\n"
      ],
      "metadata": {
        "id": "A0Eh3gu8k-Lf"
      }
    },
    {
      "cell_type": "markdown",
      "source": [],
      "metadata": {
        "id": "4lHZ0VbTk917"
      }
    },
    {
      "cell_type": "markdown",
      "source": [],
      "metadata": {
        "id": "vIrkKSMDk9dm"
      }
    },
    {
      "cell_type": "code",
      "source": [
        "# Write a code to append the number 10 to the list [1, 2, 3, 4]\n",
        "list=[1,2,3,4]\n",
        "list.append(10)\n",
        "print(list)"
      ],
      "metadata": {
        "colab": {
          "base_uri": "https://localhost:8080/"
        },
        "id": "6_afPGvb-cl3",
        "outputId": "6b0d112a-11a5-4b3d-8a62-cb798b28b551"
      },
      "execution_count": 9,
      "outputs": [
        {
          "output_type": "stream",
          "name": "stdout",
          "text": [
            "[1, 2, 3, 4, 10]\n"
          ]
        }
      ]
    },
    {
      "cell_type": "markdown",
      "source": [
        "\n",
        "\n",
        "---\n",
        "\n"
      ],
      "metadata": {
        "id": "ipluQAvmk8FJ"
      }
    },
    {
      "cell_type": "markdown",
      "source": [],
      "metadata": {
        "id": "dOo1EJtak73e"
      }
    },
    {
      "cell_type": "code",
      "source": [
        "# 8. Write a code to remove the number 3 from the list [1, 2, 3, 4, 5]\n",
        "list=[1,2,3,4,5]\n",
        "list.remove(3)\n",
        "print(list)"
      ],
      "metadata": {
        "colab": {
          "base_uri": "https://localhost:8080/"
        },
        "id": "1AVBxpIZ-0Oq",
        "outputId": "18795627-0607-483c-e725-526d3f3acaf5"
      },
      "execution_count": 11,
      "outputs": [
        {
          "output_type": "stream",
          "name": "stdout",
          "text": [
            "[1, 2, 4, 5]\n"
          ]
        }
      ]
    },
    {
      "cell_type": "markdown",
      "source": [],
      "metadata": {
        "id": "qVSchGyhk7IU"
      }
    },
    {
      "cell_type": "markdown",
      "source": [],
      "metadata": {
        "id": "kqPhj3m6k6y7"
      }
    },
    {
      "cell_type": "code",
      "source": [],
      "metadata": {
        "id": "BVQSMDLFk6jV"
      },
      "execution_count": null,
      "outputs": []
    },
    {
      "cell_type": "code",
      "source": [
        "# 9. Write a code to access the second element in the list ['a', 'b', 'c', 'd']\n",
        "list=[\"a\",\"b\",\"c\",\"d\"]\n",
        "print(list[1])\n"
      ],
      "metadata": {
        "colab": {
          "base_uri": "https://localhost:8080/"
        },
        "id": "bvud-1a7_E7I",
        "outputId": "babc1f4f-0a18-427e-a252-6c0ad63435ff"
      },
      "execution_count": 1,
      "outputs": [
        {
          "output_type": "stream",
          "name": "stdout",
          "text": [
            "b\n"
          ]
        }
      ]
    },
    {
      "cell_type": "markdown",
      "source": [
        "\n",
        "\n",
        "---\n",
        "\n"
      ],
      "metadata": {
        "id": "j16yHQ64k5dF"
      }
    },
    {
      "cell_type": "code",
      "source": [
        " # Write a code to reverse the list [10, 20, 30, 40, 50].\n",
        " list=[10,20,30,40]\n",
        " list.reverse()\n",
        " list"
      ],
      "metadata": {
        "colab": {
          "base_uri": "https://localhost:8080/"
        },
        "id": "kEodcnVA_cdw",
        "outputId": "8b55fb50-9f31-4cf8-a10d-c46eba009ea2"
      },
      "execution_count": 2,
      "outputs": [
        {
          "output_type": "execute_result",
          "data": {
            "text/plain": [
              "[40, 30, 20, 10]"
            ]
          },
          "metadata": {},
          "execution_count": 2
        }
      ]
    },
    {
      "cell_type": "code",
      "source": [],
      "metadata": {
        "id": "WdPybb2skvS7"
      },
      "execution_count": null,
      "outputs": []
    },
    {
      "cell_type": "markdown",
      "source": [
        "\n",
        "\n",
        "---\n",
        "\n"
      ],
      "metadata": {
        "id": "UfP9ns8ak2Qz"
      }
    }
  ],
  "metadata": {
    "colab": {
      "provenance": []
    },
    "kernelspec": {
      "display_name": "Python 3",
      "name": "python3"
    },
    "language_info": {
      "name": "python"
    }
  },
  "nbformat": 4,
  "nbformat_minor": 0
}